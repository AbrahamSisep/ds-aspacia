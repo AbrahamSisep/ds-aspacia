{
 "cells": [
  {
   "attachments": {},
   "cell_type": "markdown",
   "metadata": {},
   "source": [
    "### 1. Cree una clase llamada Individuo . Sus atributos son:\n",
    "● PrimerNombre, Edad y RUT. \n",
    "### Construye los siguientes métodos para la clase:\n",
    "● Un constructor, donde los datos pueden estar vacíos.\n",
    "\n",
    " ● Los setters y getters para cada uno de los atributos. Hay que validar las entradas de datos.\n",
    "\n",
    " ● revelar ( ) : Revela la información de la persona.\n",
    "\n",
    " ● Adulto ( ) : Entrega un valor lógico sí es o no adulto (mayor de 18 años)."
   ]
  },
  {
   "cell_type": "code",
   "execution_count": 1,
   "metadata": {},
   "outputs": [],
   "source": [
    "class Individuo:\n",
    "    def __init__(self, primer_nombre = \"\", edad = 0, rut = \"\"):\n",
    "        self.PrimerNombre = primer_nombre\n",
    "        self.Edad = edad\n",
    "        self.RUT = rut\n",
    "\n",
    "    @property\n",
    "    def PrimerNombre(self):\n",
    "        return self.PrimerNombre\n",
    "\n",
    "    @PrimerNombre.setter\n",
    "    def PrimerNombre(self, primer_nombre):\n",
    "        if len(primer_nombre) <= 5: \n",
    "            self.PrimerNombre = primer_nombre\n",
    "        else:\n",
    "            raise ValueError(\"Valor fuera de rango\")\n",
    "    @property\n",
    "    def Edad(self):\n",
    "        return self.Edad\n",
    "\n",
    "    @Edad.setter\n",
    "    def Edad(self, edad):\n",
    "        if edad < 0 and edad < 110:\n",
    "            self.Edad = edad\n",
    "        else:\n",
    "            raise ValueError(\"Sorry you age is below eligibility criteria\")\n",
    "\n",
    "    def Revelar(self):\n",
    "        print(f\"Nombre: {self.PrimerNombre} \\nEdad:{self.Edad} \\nRut:{self.RUT}\")\n",
    "\n",
    "    def Adulto(self):\n",
    "        if self.Edad >= 18:\n",
    "            return 1\n",
    "        else:\n",
    "            return 0"
   ]
  },
  {
   "cell_type": "code",
   "execution_count": null,
   "metadata": {},
   "outputs": [],
   "source": [
    "persona = Individuo()"
   ]
  },
  {
   "cell_type": "code",
   "execution_count": null,
   "metadata": {},
   "outputs": [],
   "source": []
  },
  {
   "cell_type": "code",
   "execution_count": 45,
   "metadata": {},
   "outputs": [],
   "source": [
    "persona._PrimerNombre = \"AAAAAAAAAAAAAAAAAAAAAAAAAAAAAAAA\""
   ]
  },
  {
   "cell_type": "code",
   "execution_count": 46,
   "metadata": {},
   "outputs": [
    {
     "name": "stdout",
     "output_type": "stream",
     "text": [
      "Nombre: AAAAAAAAAAAAAAAAAAAAAAAAAAAAAAAA \n",
      "Edad:None \n",
      "Rut:None\n"
     ]
    }
   ],
   "source": [
    "persona.Revelar()"
   ]
  },
  {
   "cell_type": "code",
   "execution_count": null,
   "metadata": {},
   "outputs": [],
   "source": []
  },
  {
   "attachments": {},
   "cell_type": "markdown",
   "metadata": {},
   "source": [
    "**¿Cómo se construye una clase?**\n",
    "    R:\n",
    "\n",
    "**¿Cómo definimos cada atributo?**\n",
    "    R:"
   ]
  }
 ],
 "metadata": {
  "kernelspec": {
   "display_name": "Python 3",
   "language": "python",
   "name": "python3"
  },
  "language_info": {
   "codemirror_mode": {
    "name": "ipython",
    "version": 3
   },
   "file_extension": ".py",
   "mimetype": "text/x-python",
   "name": "python",
   "nbconvert_exporter": "python",
   "pygments_lexer": "ipython3",
   "version": "3.9.7"
  },
  "orig_nbformat": 4
 },
 "nbformat": 4,
 "nbformat_minor": 2
}
